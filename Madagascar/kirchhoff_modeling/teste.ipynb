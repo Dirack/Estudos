{
 "cells": [
  {
   "cell_type": "code",
   "execution_count": null,
   "metadata": {},
   "outputs": [],
   "source": [
    "from m8r import view"
   ]
  },
  {
   "cell_type": "code",
   "execution_count": null,
   "metadata": {},
   "outputs": [],
   "source": [
    "%%file 1_gaussianReflectorVelocityModel.scons \n",
    "\n",
    "#!/usr/bin/env python\n",
    "# -*- coding: utf-8 -*-\n",
    "#\n",
    "# SConstruct  (Madagascar Script)\n",
    "#\n",
    "# Purpose: Model a data cube A(m,h,t) using Kirchoff modeling.\n",
    "#\n",
    "# Site: http://www.dirackslounge.online\n",
    "# \n",
    "# Version 1.0\n",
    "#\n",
    "# Programer: Rodolfo A. C. Neves (Dirack) 18/09/2019\n",
    "#\n",
    "# Email: rodolfo_profissional@hotmail.com\n",
    "#\n",
    "# License: GPL-3.0 <https://www.gnu.org/licenses/gpl-3.0.txt>.\n",
    "\n",
    "\n",
    "# Madagascar library\n",
    "\n",
    "# Python math library\n",
    "import math\n",
    "\n",
    "# Ploting functions\n",
    "from graph_scons import *\n",
    "\n",
    "# Modeling: Gaussian reflector in a velocity linear model\n",
    "# velocity increases with depth and a 0.5 velocity gradient\n",
    "Flow('gaussianReflector',None,\n",
    "     '''\n",
    "     math d1=0.01 n1=2001 o1=-5 unit1=km label1=Offset\n",
    "     output=\"4-3*exp(-(x1-5)^2/9)\"\n",
    "     ''')\n",
    "\n",
    "for g in range(2):\n",
    "    gaussianReflector = 'gaussianReflector%d' % g\n",
    "    Plot(gaussianReflector,'gaussianReflector',\n",
    "         '''\n",
    "         graph min2=0 max2=4 min1=0 max1=10\n",
    "         yreverse=y plotcol=%d plotfat=%d\n",
    "         wantaxis=n wanttitle=n scalebar=y pad=n\n",
    "         ''' % ((7,0)[g],(7,3)[g]))\n",
    "\n",
    "# Velocity Model\n",
    "Flow('velocityModel','gaussianReflector',\n",
    "     '''\n",
    "     window min1=0 max1=10 |\n",
    "     spray axis=1 n=451 d=0.01 o=0 label=Depth unit=km |\n",
    "     math output=\"1.5+0.5*x1+0.0*x2\"\n",
    "     ''')\n",
    "\n",
    "Plot('velocityModel',\n",
    "     '''\n",
    "     grey color=j allpos=y bias=1.5 scalebar=y wanttitle=n\n",
    "     barreverse=y barlabel=Velocity barunit=km/s\n",
    "     ''')\n",
    "\n",
    "Result('gaussianReflectorVelocityModel','velocityModel gaussianReflector0 gaussianReflector1','Overlay')"
   ]
  },
  {
   "cell_type": "code",
   "execution_count": null,
   "metadata": {},
   "outputs": [],
   "source": [
    "view(\"gaussianReflectorVelocityModel\")"
   ]
  },
  {
   "cell_type": "code",
   "execution_count": null,
   "metadata": {},
   "outputs": [],
   "source": [
    "%%file 2_dataCube.scons \n",
    "\n",
    "\n",
    "Flow('reflectorDip','gaussianReflector','math output=\"2/3*(x1-5)*input\" ')\n",
    "\n",
    "# Kirchoff Modeling\n",
    "Flow('dataCube','gaussianReflector reflectorDip',\n",
    "     '''\n",
    "     kirmod cmp=y dip=${SOURCES[1]} \n",
    "     nh=161 dh=0.025 h0=0\n",
    "     ns=401 ds=0.025 s0=0\n",
    "     freq=10 dt=0.004 nt=1001\n",
    "     vel=1.5 gradz=0.5 gradx=0.0 verb=y |\n",
    "     put d2=0.0125 label3=\"CMP\" unit3=\"Km\" label2=\"Offset\" unit2=\"Km\" label1=Time unit1=s\n",
    "     ''')\n",
    "\n",
    "Result('dataCube',grey3('Modeled seismic data cube'))"
   ]
  },
  {
   "cell_type": "code",
   "execution_count": null,
   "metadata": {},
   "outputs": [],
   "source": [
    "view(\"dataCube\")"
   ]
  },
  {
   "cell_type": "code",
   "execution_count": null,
   "metadata": {},
   "outputs": [],
   "source": [
    "%%file 3_cmpGather.scons \n",
    "\n",
    "\n",
    "# Select a CMP gather m0=5Km\n",
    "Flow('cmpGather','dataCube',\n",
    "\t'''\n",
    "\twindow n3=1 f3=200\n",
    "\t''')\n",
    "\n",
    "Result('cmpGather',grey('CMP Gather 5Km'))"
   ]
  },
  {
   "cell_type": "code",
   "execution_count": null,
   "metadata": {},
   "outputs": [],
   "source": [
    "view(\"cmpGather\")"
   ]
  }
 ],
 "metadata": {},
 "nbformat": 4,
 "nbformat_minor": 2
}
