{
 "cells": [
  {
   "cell_type": "markdown",
   "metadata": {},
   "source": [
    "### Estudo sobre formulação lagrangiana\n",
    "\n",
    "\n",
    "#### Definição do modelo\n",
    "\n",
    "<img src=images/lagrange.jpg alt=lagrange width=800>\n",
    "\n",
    "Em um meio de velocidade C definido da seguinte forma:\n",
    "\n",
    "$$\n",
    "c(x,y,z)\n",
    "$$\n",
    "\n",
    "Uma partícula percorre a distância entre dois pontos A e B quaisquer. As coordenadas espaciais são parâmetrizadas da\n",
    "seguinte forma e definem o comprimento percorrido pela partícula l:\n",
    "\n",
    "$$\n",
    "l = l(x = x(\\sigma), y = y(\\sigma), z = z(\\sigma))\n",
    "$$"
   ]
  },
  {
   "cell_type": "markdown",
   "metadata": {},
   "source": [
    "#### Formulação\n",
    "\n",
    "Podemos definir o intervalo de tempo incremental percorrido pela partícula como:\n",
    "\n",
    "$$\n",
    "\\label{teste}\n",
    "dt = \\frac{ds}{C}\n",
    "$$\n",
    "\n",
    "E a distância incremental percorrida pela partícula no instânte $dt$ como:\n",
    "\n",
    "$$\n",
    "ds = \\sqrt{dx^2+dy^2+dz^2} = \\sqrt{\\dot x^2(\\sigma) + \\dot y^2(\\sigma) + \\dot z^2(\\sigma) }\n",
    "$$\n",
    "\n",
    "Onde:\n",
    "\n",
    "$$\n",
    "\\dot x = \\frac{dx}{d\\sigma}\n",
    "$$\n",
    "\n",
    "Integrando o tempo $dt$:\n",
    "\n",
    "$$\n",
    "T(l) = \\int_{\\sigma_A}^{\\sigma_B} \\frac{\\sqrt{\\dot x^2(\\sigma) + \\dot y^2(\\sigma) + \\dot z^2(\\sigma)}}{C(x(\\sigma),y(\\sigma),z(\\sigma))}\\, d\\sigma\n",
    "$$\n",
    "\n",
    "Definindo o integrando como a função Lagrangiana $L$:\n",
    "\n",
    "$$\n",
    "T(l) = \\int_{\\sigma_A}^{\\sigma_B} L(\\dot x,\\dot y,\\dot z,x,y,z)\\, d\\sigma\n",
    "$$"
   ]
  },
  {
   "cell_type": "code",
   "execution_count": null,
   "metadata": {},
   "outputs": [],
   "source": []
  }
 ],
 "metadata": {
  "kernelspec": {
   "display_name": "Python 2",
   "language": "python",
   "name": "python2"
  },
  "language_info": {
   "codemirror_mode": {
    "name": "ipython",
    "version": 2
   },
   "file_extension": ".py",
   "mimetype": "text/x-python",
   "name": "python",
   "nbconvert_exporter": "python",
   "pygments_lexer": "ipython2",
   "version": "2.7.18rc1"
  }
 },
 "nbformat": 4,
 "nbformat_minor": 2
}
