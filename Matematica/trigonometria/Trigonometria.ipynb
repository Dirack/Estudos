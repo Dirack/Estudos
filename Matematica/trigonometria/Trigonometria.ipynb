{
 "cells": [
  {
   "cell_type": "markdown",
   "metadata": {},
   "source": [
    "### Resumo de tópicos variados de trigonometria\n",
    "\n",
    "#### Triângulo retângulo\n",
    "\n",
    "TODO: Imagens triÂngulo\n",
    "\n",
    "$m$ é a projeção do cateto $c$ na hipotenusa $a$.\n",
    "\n",
    "$n$ é a projeção do cateto $b$ na hipotenusa $a$"
   ]
  },
  {
   "cell_type": "markdown",
   "metadata": {},
   "source": [
    "#### Seno, cosseno e tangente de 30°, 45° e 60°\n",
    "\n",
    "TODO: Imagem triangulo retangulo\n",
    "\n",
    "$$\\sin \\alpha = \\frac{b}{a}$$\n",
    "\n",
    "$$\\cos \\alpha = \\frac{c}{a}$$\n",
    "\n",
    "$$\\tan \\alpha = \\frac{b}{c}$$\n",
    "\n",
    "Dessa forma:\n",
    "\n",
    "$$\\sin 45° = \\frac{a}{a\\sqrt{2}} = \\frac{\\sqrt{2}}{2}$$\n",
    "\n",
    "$$\\cos 45° = \\frac{a}{a\\sqrt{2}} = \\frac{\\sqrt{2}}{2}$$\n",
    "\n",
    "$$\\tan 45° = \\frac{a}{a} = \\frac{\\sqrt{2}}{2}$$\n",
    "\n",
    "\n",
    "Para 30° e 60°, considere o triângulo equilátero:\n",
    "\n",
    "TODO: Imagem triângulo equilátero.\n",
    "\n",
    "\n",
    "$$\\sin 30° = \\frac{a}{2} \\frac{1}{a} = \\frac{1}{2}$$\n",
    "\n",
    "$$\\cos 30° = \\frac{h}{a} = \\frac{\\sqrt{3}}{2}$$\n",
    "\n",
    "$$\\tan 30° = \\frac{1}{2} \\frac{2}{\\sqrt{3}} = \\frac{\\sqrt{3}}{3}$$\n",
    "\n",
    "Da mesma forma:\n",
    "\n",
    "$$\\sin 60° = \\frac{h}{a} = \\frac{\\sqrt{3}}{2}$$\n",
    "\n",
    "$$\\cos 60° = \\frac{a}{2} \\frac{1}{a} = \\frac{1}{2}$$\n",
    "\n",
    "$$\\tan 60° = \\frac{\\sqrt{3}}{2} 2 = \\sqrt{3}$$"
   ]
  },
  {
   "cell_type": "markdown",
   "metadata": {},
   "source": [
    "#### Diagonal do quadrado\n",
    "\n",
    "TODO: IMAGEM quadrado\n",
    "\n",
    "$$d^2 = a^2+a^2$$\n",
    "\n",
    "$$d=\\sqrt{2a^2}=a\\sqrt{2}$$"
   ]
  }
 ],
 "metadata": {
  "kernelspec": {
   "display_name": "Python 3",
   "language": "python",
   "name": "python3"
  },
  "language_info": {
   "codemirror_mode": {
    "name": "ipython",
    "version": 3
   },
   "file_extension": ".py",
   "mimetype": "text/x-python",
   "name": "python",
   "nbconvert_exporter": "python",
   "pygments_lexer": "ipython3",
   "version": "3.8.2"
  }
 },
 "nbformat": 4,
 "nbformat_minor": 2
}
